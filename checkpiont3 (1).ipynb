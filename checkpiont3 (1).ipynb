{
 "cells": [
  {
   "cell_type": "code",
   "execution_count": 25,
   "id": "64289227",
   "metadata": {},
   "outputs": [
    {
     "name": "stdout",
     "output_type": "stream",
     "text": [
      "6\n"
     ]
    }
   ],
   "source": [
    "list=[2,3,]\n",
    "c=1\n",
    "for val in list:\n",
    "    c=c*val\n",
    "print(c)\n",
    "    "
   ]
  },
  {
   "cell_type": "code",
   "execution_count": 30,
   "id": "32e19dc8",
   "metadata": {},
   "outputs": [
    {
     "name": "stdout",
     "output_type": "stream",
     "text": [
      "[(2, 3), (5, 6), (7, 8)]\n"
     ]
    }
   ],
   "source": [
    "list=[(5,6),(2,3),(7,8)]\n",
    "list.sort()\n",
    "print(list)"
   ]
  },
  {
   "cell_type": "code",
   "execution_count": 43,
   "id": "61bf2cbe",
   "metadata": {},
   "outputs": [
    {
     "name": "stdout",
     "output_type": "stream",
     "text": [
      "{'a': 14, 'b': 20, 'c': 23, 'd': 11}\n"
     ]
    }
   ],
   "source": [
    "s1={'a':12,'b':15,'c':23}\n",
    "s2={'a':2,'b':5,'d':11}\n",
    "s3={}\n",
    "for i in s1:\n",
    "    if i in s2:\n",
    "        s3[i]=s1[i]+s2[i]\n",
    "    else:\n",
    "        s3[i]=s1[i]    \n",
    "\n",
    "for i in s2:\n",
    "    if i in s1:\n",
    "        s3[i]=s1[i]+s2[i]\n",
    "    else:\n",
    "        s3[i]=s2[i]\n",
    "print(s3)       \n"
   ]
  },
  {
   "cell_type": "code",
   "execution_count": 45,
   "id": "a1d4fc61",
   "metadata": {},
   "outputs": [
    {
     "name": "stdout",
     "output_type": "stream",
     "text": [
      "write: 5\n",
      "{1: 1, 2: 4, 3: 9, 4: 16, 5: 25}\n"
     ]
    }
   ],
   "source": [
    "n=int(input('write: '))\n",
    "D={}\n",
    "for i in range(1,n+1):\n",
    "    D[i]=i*i\n",
    "print(D)\n",
    "    "
   ]
  },
  {
   "cell_type": "code",
   "execution_count": null,
   "id": "7ef00b10",
   "metadata": {},
   "outputs": [],
   "source": []
  }
 ],
 "metadata": {
  "kernelspec": {
   "display_name": "Python 3 (ipykernel)",
   "language": "python",
   "name": "python3"
  },
  "language_info": {
   "codemirror_mode": {
    "name": "ipython",
    "version": 3
   },
   "file_extension": ".py",
   "mimetype": "text/x-python",
   "name": "python",
   "nbconvert_exporter": "python",
   "pygments_lexer": "ipython3",
   "version": "3.9.7"
  }
 },
 "nbformat": 4,
 "nbformat_minor": 5
}
